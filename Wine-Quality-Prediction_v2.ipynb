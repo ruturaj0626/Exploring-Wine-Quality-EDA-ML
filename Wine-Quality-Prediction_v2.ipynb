{
 "cells": [
  {
   "cell_type": "code",
   "execution_count": 1,
   "id": "259848b7",
   "metadata": {
    "execution": {
     "iopub.execute_input": "2023-09-09T12:35:34.925660Z",
     "iopub.status.busy": "2023-09-09T12:35:34.925139Z",
     "iopub.status.idle": "2023-09-09T12:35:37.267383Z",
     "shell.execute_reply": "2023-09-09T12:35:37.266625Z"
    },
    "papermill": {
     "duration": 2.352522,
     "end_time": "2023-09-09T12:35:37.269439",
     "exception": false,
     "start_time": "2023-09-09T12:35:34.916917",
     "status": "completed"
    },
    "tags": []
   },
   "outputs": [],
   "source": [
    "import warnings\n",
    "warnings.filterwarnings(\"ignore\")\n",
    "\n",
    "import pandas as pd\n",
    "import numpy as np\n",
    "import pprint\n",
    "from sklearn.preprocessing import StandardScaler\n",
    "import seaborn as sns \n",
    "import matplotlib.pyplot as plt \n",
    "from sklearn.ensemble import RandomForestClassifier\n",
    "from sklearn.model_selection import train_test_split\n",
    "from sklearn.metrics import accuracy_score, classification_report, confusion_matrix"
   ]
  },
  {
   "cell_type": "code",
   "execution_count": 2,
   "id": "d49c8ca0",
   "metadata": {
    "execution": {
     "iopub.execute_input": "2023-09-09T12:35:37.282401Z",
     "iopub.status.busy": "2023-09-09T12:35:37.281635Z",
     "iopub.status.idle": "2023-09-09T12:35:37.309688Z",
     "shell.execute_reply": "2023-09-09T12:35:37.308532Z"
    },
    "papermill": {
     "duration": 0.037023,
     "end_time": "2023-09-09T12:35:37.312008",
     "exception": false,
     "start_time": "2023-09-09T12:35:37.274985",
     "status": "completed"
    },
    "tags": []
   },
   "outputs": [],
   "source": [
    "data_file = pd.read_csv(\"/kaggle/input/red-wine-quality-cortez-et-al-2009/winequality-red.csv\")"
   ]
  },
  {
   "cell_type": "code",
   "execution_count": 3,
   "id": "ce743f23",
   "metadata": {
    "execution": {
     "iopub.execute_input": "2023-09-09T12:35:37.324519Z",
     "iopub.status.busy": "2023-09-09T12:35:37.324065Z",
     "iopub.status.idle": "2023-09-09T12:35:37.353937Z",
     "shell.execute_reply": "2023-09-09T12:35:37.353053Z"
    },
    "papermill": {
     "duration": 0.038011,
     "end_time": "2023-09-09T12:35:37.355745",
     "exception": false,
     "start_time": "2023-09-09T12:35:37.317734",
     "status": "completed"
    },
    "tags": []
   },
   "outputs": [
    {
     "data": {
      "text/html": [
       "<div>\n",
       "<style scoped>\n",
       "    .dataframe tbody tr th:only-of-type {\n",
       "        vertical-align: middle;\n",
       "    }\n",
       "\n",
       "    .dataframe tbody tr th {\n",
       "        vertical-align: top;\n",
       "    }\n",
       "\n",
       "    .dataframe thead th {\n",
       "        text-align: right;\n",
       "    }\n",
       "</style>\n",
       "<table border=\"1\" class=\"dataframe\">\n",
       "  <thead>\n",
       "    <tr style=\"text-align: right;\">\n",
       "      <th></th>\n",
       "      <th>fixed acidity</th>\n",
       "      <th>volatile acidity</th>\n",
       "      <th>citric acid</th>\n",
       "      <th>residual sugar</th>\n",
       "      <th>chlorides</th>\n",
       "      <th>free sulfur dioxide</th>\n",
       "      <th>total sulfur dioxide</th>\n",
       "      <th>density</th>\n",
       "      <th>pH</th>\n",
       "      <th>sulphates</th>\n",
       "      <th>alcohol</th>\n",
       "      <th>quality</th>\n",
       "    </tr>\n",
       "  </thead>\n",
       "  <tbody>\n",
       "    <tr>\n",
       "      <th>0</th>\n",
       "      <td>7.4</td>\n",
       "      <td>0.70</td>\n",
       "      <td>0.00</td>\n",
       "      <td>1.9</td>\n",
       "      <td>0.076</td>\n",
       "      <td>11.0</td>\n",
       "      <td>34.0</td>\n",
       "      <td>0.9978</td>\n",
       "      <td>3.51</td>\n",
       "      <td>0.56</td>\n",
       "      <td>9.4</td>\n",
       "      <td>5</td>\n",
       "    </tr>\n",
       "    <tr>\n",
       "      <th>1</th>\n",
       "      <td>7.8</td>\n",
       "      <td>0.88</td>\n",
       "      <td>0.00</td>\n",
       "      <td>2.6</td>\n",
       "      <td>0.098</td>\n",
       "      <td>25.0</td>\n",
       "      <td>67.0</td>\n",
       "      <td>0.9968</td>\n",
       "      <td>3.20</td>\n",
       "      <td>0.68</td>\n",
       "      <td>9.8</td>\n",
       "      <td>5</td>\n",
       "    </tr>\n",
       "    <tr>\n",
       "      <th>2</th>\n",
       "      <td>7.8</td>\n",
       "      <td>0.76</td>\n",
       "      <td>0.04</td>\n",
       "      <td>2.3</td>\n",
       "      <td>0.092</td>\n",
       "      <td>15.0</td>\n",
       "      <td>54.0</td>\n",
       "      <td>0.9970</td>\n",
       "      <td>3.26</td>\n",
       "      <td>0.65</td>\n",
       "      <td>9.8</td>\n",
       "      <td>5</td>\n",
       "    </tr>\n",
       "    <tr>\n",
       "      <th>3</th>\n",
       "      <td>11.2</td>\n",
       "      <td>0.28</td>\n",
       "      <td>0.56</td>\n",
       "      <td>1.9</td>\n",
       "      <td>0.075</td>\n",
       "      <td>17.0</td>\n",
       "      <td>60.0</td>\n",
       "      <td>0.9980</td>\n",
       "      <td>3.16</td>\n",
       "      <td>0.58</td>\n",
       "      <td>9.8</td>\n",
       "      <td>6</td>\n",
       "    </tr>\n",
       "    <tr>\n",
       "      <th>4</th>\n",
       "      <td>7.4</td>\n",
       "      <td>0.70</td>\n",
       "      <td>0.00</td>\n",
       "      <td>1.9</td>\n",
       "      <td>0.076</td>\n",
       "      <td>11.0</td>\n",
       "      <td>34.0</td>\n",
       "      <td>0.9978</td>\n",
       "      <td>3.51</td>\n",
       "      <td>0.56</td>\n",
       "      <td>9.4</td>\n",
       "      <td>5</td>\n",
       "    </tr>\n",
       "  </tbody>\n",
       "</table>\n",
       "</div>"
      ],
      "text/plain": [
       "   fixed acidity  volatile acidity  citric acid  residual sugar  chlorides  \\\n",
       "0            7.4              0.70         0.00             1.9      0.076   \n",
       "1            7.8              0.88         0.00             2.6      0.098   \n",
       "2            7.8              0.76         0.04             2.3      0.092   \n",
       "3           11.2              0.28         0.56             1.9      0.075   \n",
       "4            7.4              0.70         0.00             1.9      0.076   \n",
       "\n",
       "   free sulfur dioxide  total sulfur dioxide  density    pH  sulphates  \\\n",
       "0                 11.0                  34.0   0.9978  3.51       0.56   \n",
       "1                 25.0                  67.0   0.9968  3.20       0.68   \n",
       "2                 15.0                  54.0   0.9970  3.26       0.65   \n",
       "3                 17.0                  60.0   0.9980  3.16       0.58   \n",
       "4                 11.0                  34.0   0.9978  3.51       0.56   \n",
       "\n",
       "   alcohol  quality  \n",
       "0      9.4        5  \n",
       "1      9.8        5  \n",
       "2      9.8        5  \n",
       "3      9.8        6  \n",
       "4      9.4        5  "
      ]
     },
     "execution_count": 3,
     "metadata": {},
     "output_type": "execute_result"
    }
   ],
   "source": [
    "data_file.head()"
   ]
  },
  {
   "cell_type": "code",
   "execution_count": 4,
   "id": "34f9350a",
   "metadata": {
    "execution": {
     "iopub.execute_input": "2023-09-09T12:35:37.368876Z",
     "iopub.status.busy": "2023-09-09T12:35:37.368221Z",
     "iopub.status.idle": "2023-09-09T12:35:37.397990Z",
     "shell.execute_reply": "2023-09-09T12:35:37.396298Z"
    },
    "papermill": {
     "duration": 0.039444,
     "end_time": "2023-09-09T12:35:37.400910",
     "exception": false,
     "start_time": "2023-09-09T12:35:37.361466",
     "status": "completed"
    },
    "tags": []
   },
   "outputs": [
    {
     "name": "stdout",
     "output_type": "stream",
     "text": [
      "<class 'pandas.core.frame.DataFrame'>\n",
      "RangeIndex: 1599 entries, 0 to 1598\n",
      "Data columns (total 12 columns):\n",
      " #   Column                Non-Null Count  Dtype  \n",
      "---  ------                --------------  -----  \n",
      " 0   fixed acidity         1599 non-null   float64\n",
      " 1   volatile acidity      1599 non-null   float64\n",
      " 2   citric acid           1599 non-null   float64\n",
      " 3   residual sugar        1599 non-null   float64\n",
      " 4   chlorides             1599 non-null   float64\n",
      " 5   free sulfur dioxide   1599 non-null   float64\n",
      " 6   total sulfur dioxide  1599 non-null   float64\n",
      " 7   density               1599 non-null   float64\n",
      " 8   pH                    1599 non-null   float64\n",
      " 9   sulphates             1599 non-null   float64\n",
      " 10  alcohol               1599 non-null   float64\n",
      " 11  quality               1599 non-null   int64  \n",
      "dtypes: float64(11), int64(1)\n",
      "memory usage: 150.0 KB\n"
     ]
    }
   ],
   "source": [
    "data_file.info()"
   ]
  },
  {
   "cell_type": "code",
   "execution_count": 5,
   "id": "ef8e30d2",
   "metadata": {
    "execution": {
     "iopub.execute_input": "2023-09-09T12:35:37.418870Z",
     "iopub.status.busy": "2023-09-09T12:35:37.418276Z",
     "iopub.status.idle": "2023-09-09T12:35:37.643514Z",
     "shell.execute_reply": "2023-09-09T12:35:37.642504Z"
    },
    "papermill": {
     "duration": 0.237272,
     "end_time": "2023-09-09T12:35:37.645696",
     "exception": false,
     "start_time": "2023-09-09T12:35:37.408424",
     "status": "completed"
    },
    "tags": []
   },
   "outputs": [],
   "source": [
    "import pandas as pd\n",
    "from sklearn.preprocessing import StandardScaler\n",
    "from imblearn.over_sampling import RandomOverSampler\n",
    "\n",
    "def refined_df(setx):\n",
    "    def refine(data):\n",
    "        column_names = data.columns\n",
    "\n",
    "        # Standardize the data\n",
    "        #scaler = StandardScaler()\n",
    "        #data = scaler.fit_transform(data)\n",
    "\n",
    "        return data, column_names\n",
    "\n",
    "    dfx, column_names = refine(setx)\n",
    "    \n",
    "    # Convert back to a DataFrame\n",
    "    dfx = pd.DataFrame(dfx, columns=column_names)\n",
    "    \n",
    "    # Address class imbalance using RandomOverSampler\n",
    "    oversampler = RandomOverSampler(random_state=42)\n",
    "    dfx_resampled, _ = oversampler.fit_resample(dfx, dfx['quality'])  # Replace 'target_column_name' with the name of your target column\n",
    "\n",
    "    return dfx_resampled\n"
   ]
  },
  {
   "cell_type": "code",
   "execution_count": 6,
   "id": "01b95f32",
   "metadata": {
    "execution": {
     "iopub.execute_input": "2023-09-09T12:35:37.658699Z",
     "iopub.status.busy": "2023-09-09T12:35:37.658228Z",
     "iopub.status.idle": "2023-09-09T12:35:37.689493Z",
     "shell.execute_reply": "2023-09-09T12:35:37.688496Z"
    },
    "papermill": {
     "duration": 0.039919,
     "end_time": "2023-09-09T12:35:37.691389",
     "exception": false,
     "start_time": "2023-09-09T12:35:37.651470",
     "status": "completed"
    },
    "tags": []
   },
   "outputs": [
    {
     "data": {
      "text/html": [
       "<div>\n",
       "<style scoped>\n",
       "    .dataframe tbody tr th:only-of-type {\n",
       "        vertical-align: middle;\n",
       "    }\n",
       "\n",
       "    .dataframe tbody tr th {\n",
       "        vertical-align: top;\n",
       "    }\n",
       "\n",
       "    .dataframe thead th {\n",
       "        text-align: right;\n",
       "    }\n",
       "</style>\n",
       "<table border=\"1\" class=\"dataframe\">\n",
       "  <thead>\n",
       "    <tr style=\"text-align: right;\">\n",
       "      <th></th>\n",
       "      <th>fixed acidity</th>\n",
       "      <th>volatile acidity</th>\n",
       "      <th>citric acid</th>\n",
       "      <th>residual sugar</th>\n",
       "      <th>chlorides</th>\n",
       "      <th>free sulfur dioxide</th>\n",
       "      <th>total sulfur dioxide</th>\n",
       "      <th>density</th>\n",
       "      <th>pH</th>\n",
       "      <th>sulphates</th>\n",
       "      <th>alcohol</th>\n",
       "      <th>quality</th>\n",
       "    </tr>\n",
       "  </thead>\n",
       "  <tbody>\n",
       "    <tr>\n",
       "      <th>0</th>\n",
       "      <td>7.4</td>\n",
       "      <td>0.70</td>\n",
       "      <td>0.00</td>\n",
       "      <td>1.9</td>\n",
       "      <td>0.076</td>\n",
       "      <td>11.0</td>\n",
       "      <td>34.0</td>\n",
       "      <td>0.99780</td>\n",
       "      <td>3.51</td>\n",
       "      <td>0.56</td>\n",
       "      <td>9.4</td>\n",
       "      <td>5</td>\n",
       "    </tr>\n",
       "    <tr>\n",
       "      <th>1</th>\n",
       "      <td>7.8</td>\n",
       "      <td>0.88</td>\n",
       "      <td>0.00</td>\n",
       "      <td>2.6</td>\n",
       "      <td>0.098</td>\n",
       "      <td>25.0</td>\n",
       "      <td>67.0</td>\n",
       "      <td>0.99680</td>\n",
       "      <td>3.20</td>\n",
       "      <td>0.68</td>\n",
       "      <td>9.8</td>\n",
       "      <td>5</td>\n",
       "    </tr>\n",
       "    <tr>\n",
       "      <th>2</th>\n",
       "      <td>7.8</td>\n",
       "      <td>0.76</td>\n",
       "      <td>0.04</td>\n",
       "      <td>2.3</td>\n",
       "      <td>0.092</td>\n",
       "      <td>15.0</td>\n",
       "      <td>54.0</td>\n",
       "      <td>0.99700</td>\n",
       "      <td>3.26</td>\n",
       "      <td>0.65</td>\n",
       "      <td>9.8</td>\n",
       "      <td>5</td>\n",
       "    </tr>\n",
       "    <tr>\n",
       "      <th>3</th>\n",
       "      <td>11.2</td>\n",
       "      <td>0.28</td>\n",
       "      <td>0.56</td>\n",
       "      <td>1.9</td>\n",
       "      <td>0.075</td>\n",
       "      <td>17.0</td>\n",
       "      <td>60.0</td>\n",
       "      <td>0.99800</td>\n",
       "      <td>3.16</td>\n",
       "      <td>0.58</td>\n",
       "      <td>9.8</td>\n",
       "      <td>6</td>\n",
       "    </tr>\n",
       "    <tr>\n",
       "      <th>4</th>\n",
       "      <td>7.4</td>\n",
       "      <td>0.70</td>\n",
       "      <td>0.00</td>\n",
       "      <td>1.9</td>\n",
       "      <td>0.076</td>\n",
       "      <td>11.0</td>\n",
       "      <td>34.0</td>\n",
       "      <td>0.99780</td>\n",
       "      <td>3.51</td>\n",
       "      <td>0.56</td>\n",
       "      <td>9.4</td>\n",
       "      <td>5</td>\n",
       "    </tr>\n",
       "    <tr>\n",
       "      <th>...</th>\n",
       "      <td>...</td>\n",
       "      <td>...</td>\n",
       "      <td>...</td>\n",
       "      <td>...</td>\n",
       "      <td>...</td>\n",
       "      <td>...</td>\n",
       "      <td>...</td>\n",
       "      <td>...</td>\n",
       "      <td>...</td>\n",
       "      <td>...</td>\n",
       "      <td>...</td>\n",
       "      <td>...</td>\n",
       "    </tr>\n",
       "    <tr>\n",
       "      <th>4081</th>\n",
       "      <td>12.6</td>\n",
       "      <td>0.31</td>\n",
       "      <td>0.72</td>\n",
       "      <td>2.2</td>\n",
       "      <td>0.072</td>\n",
       "      <td>6.0</td>\n",
       "      <td>29.0</td>\n",
       "      <td>0.99870</td>\n",
       "      <td>2.88</td>\n",
       "      <td>0.82</td>\n",
       "      <td>9.8</td>\n",
       "      <td>8</td>\n",
       "    </tr>\n",
       "    <tr>\n",
       "      <th>4082</th>\n",
       "      <td>12.6</td>\n",
       "      <td>0.31</td>\n",
       "      <td>0.72</td>\n",
       "      <td>2.2</td>\n",
       "      <td>0.072</td>\n",
       "      <td>6.0</td>\n",
       "      <td>29.0</td>\n",
       "      <td>0.99870</td>\n",
       "      <td>2.88</td>\n",
       "      <td>0.82</td>\n",
       "      <td>9.8</td>\n",
       "      <td>8</td>\n",
       "    </tr>\n",
       "    <tr>\n",
       "      <th>4083</th>\n",
       "      <td>8.6</td>\n",
       "      <td>0.42</td>\n",
       "      <td>0.39</td>\n",
       "      <td>1.8</td>\n",
       "      <td>0.068</td>\n",
       "      <td>6.0</td>\n",
       "      <td>12.0</td>\n",
       "      <td>0.99516</td>\n",
       "      <td>3.35</td>\n",
       "      <td>0.69</td>\n",
       "      <td>11.7</td>\n",
       "      <td>8</td>\n",
       "    </tr>\n",
       "    <tr>\n",
       "      <th>4084</th>\n",
       "      <td>5.0</td>\n",
       "      <td>0.42</td>\n",
       "      <td>0.24</td>\n",
       "      <td>2.0</td>\n",
       "      <td>0.060</td>\n",
       "      <td>19.0</td>\n",
       "      <td>50.0</td>\n",
       "      <td>0.99170</td>\n",
       "      <td>3.72</td>\n",
       "      <td>0.74</td>\n",
       "      <td>14.0</td>\n",
       "      <td>8</td>\n",
       "    </tr>\n",
       "    <tr>\n",
       "      <th>4085</th>\n",
       "      <td>5.0</td>\n",
       "      <td>0.42</td>\n",
       "      <td>0.24</td>\n",
       "      <td>2.0</td>\n",
       "      <td>0.060</td>\n",
       "      <td>19.0</td>\n",
       "      <td>50.0</td>\n",
       "      <td>0.99170</td>\n",
       "      <td>3.72</td>\n",
       "      <td>0.74</td>\n",
       "      <td>14.0</td>\n",
       "      <td>8</td>\n",
       "    </tr>\n",
       "  </tbody>\n",
       "</table>\n",
       "<p>4086 rows × 12 columns</p>\n",
       "</div>"
      ],
      "text/plain": [
       "      fixed acidity  volatile acidity  citric acid  residual sugar  chlorides  \\\n",
       "0               7.4              0.70         0.00             1.9      0.076   \n",
       "1               7.8              0.88         0.00             2.6      0.098   \n",
       "2               7.8              0.76         0.04             2.3      0.092   \n",
       "3              11.2              0.28         0.56             1.9      0.075   \n",
       "4               7.4              0.70         0.00             1.9      0.076   \n",
       "...             ...               ...          ...             ...        ...   \n",
       "4081           12.6              0.31         0.72             2.2      0.072   \n",
       "4082           12.6              0.31         0.72             2.2      0.072   \n",
       "4083            8.6              0.42         0.39             1.8      0.068   \n",
       "4084            5.0              0.42         0.24             2.0      0.060   \n",
       "4085            5.0              0.42         0.24             2.0      0.060   \n",
       "\n",
       "      free sulfur dioxide  total sulfur dioxide  density    pH  sulphates  \\\n",
       "0                    11.0                  34.0  0.99780  3.51       0.56   \n",
       "1                    25.0                  67.0  0.99680  3.20       0.68   \n",
       "2                    15.0                  54.0  0.99700  3.26       0.65   \n",
       "3                    17.0                  60.0  0.99800  3.16       0.58   \n",
       "4                    11.0                  34.0  0.99780  3.51       0.56   \n",
       "...                   ...                   ...      ...   ...        ...   \n",
       "4081                  6.0                  29.0  0.99870  2.88       0.82   \n",
       "4082                  6.0                  29.0  0.99870  2.88       0.82   \n",
       "4083                  6.0                  12.0  0.99516  3.35       0.69   \n",
       "4084                 19.0                  50.0  0.99170  3.72       0.74   \n",
       "4085                 19.0                  50.0  0.99170  3.72       0.74   \n",
       "\n",
       "      alcohol  quality  \n",
       "0         9.4        5  \n",
       "1         9.8        5  \n",
       "2         9.8        5  \n",
       "3         9.8        6  \n",
       "4         9.4        5  \n",
       "...       ...      ...  \n",
       "4081      9.8        8  \n",
       "4082      9.8        8  \n",
       "4083     11.7        8  \n",
       "4084     14.0        8  \n",
       "4085     14.0        8  \n",
       "\n",
       "[4086 rows x 12 columns]"
      ]
     },
     "execution_count": 6,
     "metadata": {},
     "output_type": "execute_result"
    }
   ],
   "source": [
    "df = refined_df(data_file)\n",
    "df"
   ]
  },
  {
   "cell_type": "code",
   "execution_count": 7,
   "id": "ba1c86f9",
   "metadata": {
    "execution": {
     "iopub.execute_input": "2023-09-09T12:35:37.704793Z",
     "iopub.status.busy": "2023-09-09T12:35:37.704496Z",
     "iopub.status.idle": "2023-09-09T12:35:37.716380Z",
     "shell.execute_reply": "2023-09-09T12:35:37.715506Z"
    },
    "papermill": {
     "duration": 0.020986,
     "end_time": "2023-09-09T12:35:37.718404",
     "exception": false,
     "start_time": "2023-09-09T12:35:37.697418",
     "status": "completed"
    },
    "tags": []
   },
   "outputs": [
    {
     "name": "stdout",
     "output_type": "stream",
     "text": [
      "<class 'pandas.core.frame.DataFrame'>\n",
      "RangeIndex: 4086 entries, 0 to 4085\n",
      "Data columns (total 12 columns):\n",
      " #   Column                Non-Null Count  Dtype  \n",
      "---  ------                --------------  -----  \n",
      " 0   fixed acidity         4086 non-null   float64\n",
      " 1   volatile acidity      4086 non-null   float64\n",
      " 2   citric acid           4086 non-null   float64\n",
      " 3   residual sugar        4086 non-null   float64\n",
      " 4   chlorides             4086 non-null   float64\n",
      " 5   free sulfur dioxide   4086 non-null   float64\n",
      " 6   total sulfur dioxide  4086 non-null   float64\n",
      " 7   density               4086 non-null   float64\n",
      " 8   pH                    4086 non-null   float64\n",
      " 9   sulphates             4086 non-null   float64\n",
      " 10  alcohol               4086 non-null   float64\n",
      " 11  quality               4086 non-null   int64  \n",
      "dtypes: float64(11), int64(1)\n",
      "memory usage: 383.2 KB\n"
     ]
    }
   ],
   "source": [
    "df.info()"
   ]
  },
  {
   "cell_type": "code",
   "execution_count": 8,
   "id": "1be89415",
   "metadata": {
    "execution": {
     "iopub.execute_input": "2023-09-09T12:35:37.732265Z",
     "iopub.status.busy": "2023-09-09T12:35:37.731777Z",
     "iopub.status.idle": "2023-09-09T12:35:37.967310Z",
     "shell.execute_reply": "2023-09-09T12:35:37.966114Z"
    },
    "papermill": {
     "duration": 0.245552,
     "end_time": "2023-09-09T12:35:37.969963",
     "exception": false,
     "start_time": "2023-09-09T12:35:37.724411",
     "status": "completed"
    },
    "tags": []
   },
   "outputs": [
    {
     "data": {
      "image/png": "[encoded data removed]",
      "text/plain": [
       "<Figure size 500x500 with 1 Axes>"
      ]
     },
     "metadata": {},
     "output_type": "display_data"
    }
   ],
   "source": [
    "sns.catplot(x='quality', data = data_file, kind = 'count')\n",
    "plt.show()"
   ]
  },
  {
   "cell_type": "code",
   "execution_count": 9,
   "id": "99c1ee3d",
   "metadata": {
    "execution": {
     "iopub.execute_input": "2023-09-09T12:35:37.984023Z",
     "iopub.status.busy": "2023-09-09T12:35:37.983723Z",
     "iopub.status.idle": "2023-09-09T12:35:38.273198Z",
     "shell.execute_reply": "2023-09-09T12:35:38.272280Z"
    },
    "papermill": {
     "duration": 0.298796,
     "end_time": "2023-09-09T12:35:38.275113",
     "exception": false,
     "start_time": "2023-09-09T12:35:37.976317",
     "status": "completed"
    },
    "tags": []
   },
   "outputs": [
    {
     "data": {
      "text/plain": [
       "<Axes: xlabel='quality', ylabel='volatile acidity'>"
      ]
     },
     "execution_count": 9,
     "metadata": {},
     "output_type": "execute_result"
    },
    {
     "data": {
      "image/png": "[encoded data removed]",
      "text/plain": [
       "<Figure size 500x500 with 1 Axes>"
      ]
     },
     "metadata": {},
     "output_type": "display_data"
    }
   ],
   "source": [
    "# volatile acidity vs Quality\n",
    "plot = plt.figure(figsize=(5,5))\n",
    "sns.barplot(x='quality', y = 'volatile acidity', data = data_file)"
   ]
  },
  {
   "cell_type": "code",
   "execution_count": 10,
   "id": "65aa8f9b",
   "metadata": {
    "execution": {
     "iopub.execute_input": "2023-09-09T12:35:38.292073Z",
     "iopub.status.busy": "2023-09-09T12:35:38.291447Z",
     "iopub.status.idle": "2023-09-09T12:35:38.579755Z",
     "shell.execute_reply": "2023-09-09T12:35:38.578651Z"
    },
    "papermill": {
     "duration": 0.298912,
     "end_time": "2023-09-09T12:35:38.581730",
     "exception": false,
     "start_time": "2023-09-09T12:35:38.282818",
     "status": "completed"
    },
    "tags": []
   },
   "outputs": [
    {
     "data": {
      "text/plain": [
       "<Axes: xlabel='quality', ylabel='citric acid'>"
      ]
     },
     "execution_count": 10,
     "metadata": {},
     "output_type": "execute_result"
    },
    {
     "data": {
      "image/png": "[encoded data removed]",
      "text/plain": [
       "<Figure size 500x500 with 1 Axes>"
      ]
     },
     "metadata": {},
     "output_type": "display_data"
    }
   ],
   "source": [
    "# citric acid vs Quality\n",
    "plot = plt.figure(figsize=(5,5))\n",
    "sns.barplot(x='quality', y = 'citric acid', data = data_file)"
   ]
  },
  {
   "cell_type": "code",
   "execution_count": 11,
   "id": "06368d4f",
   "metadata": {
    "execution": {
     "iopub.execute_input": "2023-09-09T12:35:38.599734Z",
     "iopub.status.busy": "2023-09-09T12:35:38.599101Z",
     "iopub.status.idle": "2023-09-09T12:35:38.604057Z",
     "shell.execute_reply": "2023-09-09T12:35:38.603363Z"
    },
    "papermill": {
     "duration": 0.017065,
     "end_time": "2023-09-09T12:35:38.606090",
     "exception": false,
     "start_time": "2023-09-09T12:35:38.589025",
     "status": "completed"
    },
    "tags": []
   },
   "outputs": [],
   "source": [
    "# Convert it to a categorical variable\n",
    "df['quality'] = pd.Categorical(df['quality'])"
   ]
  },
  {
   "cell_type": "code",
   "execution_count": 12,
   "id": "6979011f",
   "metadata": {
    "execution": {
     "iopub.execute_input": "2023-09-09T12:35:38.622148Z",
     "iopub.status.busy": "2023-09-09T12:35:38.621567Z",
     "iopub.status.idle": "2023-09-09T12:35:38.628904Z",
     "shell.execute_reply": "2023-09-09T12:35:38.627753Z"
    },
    "papermill": {
     "duration": 0.018256,
     "end_time": "2023-09-09T12:35:38.631521",
     "exception": false,
     "start_time": "2023-09-09T12:35:38.613265",
     "status": "completed"
    },
    "tags": []
   },
   "outputs": [],
   "source": [
    "def random_forest_classifier(data, target_column, test_size=0.2, n_estimators=100, random_state=42):\n",
    "    # Extract features (X) and target variable (y)\n",
    "    X = data.drop(columns='quality')\n",
    "    y = data['quality']\n",
    "  \n",
    "    # Split the data into training and testing sets\n",
    "    X_train, X_test, y_train, y_test = train_test_split(X, y, test_size=test_size, random_state=random_state)\n",
    "\n",
    "    # Create the RandomForestClassifier model\n",
    "    model = RandomForestClassifier(n_estimators=n_estimators, random_state=random_state)\n",
    "\n",
    "    # Train the model\n",
    "    model.fit(X_train, y_train)\n",
    "\n",
    "    # Make predictions on the test data\n",
    "    predictions = model.predict(X_test)\n",
    "\n",
    "    # Evaluate the model\n",
    "    accuracy = accuracy_score(y_test, predictions)\n",
    "    confusion = confusion_matrix(y_test, predictions)\n",
    "    classification_rep = classification_report(y_test, predictions, output_dict=True)\n",
    "\n",
    "    # Create a DataFrame for the metrics\n",
    "    metrics_df = pd.DataFrame({\n",
    "        'Accuracy': [accuracy],\n",
    "        'Confusion Matrix': [confusion],\n",
    "        'Classification Report': [classification_rep]\n",
    "    })\n",
    "\n",
    "    return metrics_df, accuracy, confusion, classification_rep\n",
    "\n",
    "# Example usage:\n",
    "# metrics = evaluate_random_forest_classifier(df, 'quality')\n",
    "# print(metrics)\n"
   ]
  },
  {
   "cell_type": "code",
   "execution_count": 13,
   "id": "b6a64883",
   "metadata": {
    "execution": {
     "iopub.execute_input": "2023-09-09T12:35:38.647968Z",
     "iopub.status.busy": "2023-09-09T12:35:38.647668Z",
     "iopub.status.idle": "2023-09-09T12:35:39.217826Z",
     "shell.execute_reply": "2023-09-09T12:35:39.216465Z"
    },
    "papermill": {
     "duration": 0.580688,
     "end_time": "2023-09-09T12:35:39.220004",
     "exception": false,
     "start_time": "2023-09-09T12:35:38.639316",
     "status": "completed"
    },
    "tags": []
   },
   "outputs": [],
   "source": [
    "metrics_df, accuracy, confusion, classification_rep = random_forest_classifier(df, 'quality')"
   ]
  },
  {
   "cell_type": "code",
   "execution_count": 14,
   "id": "1f4f051e",
   "metadata": {
    "execution": {
     "iopub.execute_input": "2023-09-09T12:35:39.235251Z",
     "iopub.status.busy": "2023-09-09T12:35:39.234894Z",
     "iopub.status.idle": "2023-09-09T12:35:39.241655Z",
     "shell.execute_reply": "2023-09-09T12:35:39.240343Z"
    },
    "papermill": {
     "duration": 0.016698,
     "end_time": "2023-09-09T12:35:39.243557",
     "exception": false,
     "start_time": "2023-09-09T12:35:39.226859",
     "status": "completed"
    },
    "tags": []
   },
   "outputs": [
    {
     "data": {
      "text/plain": [
       "0.8875305623471883"
      ]
     },
     "execution_count": 14,
     "metadata": {},
     "output_type": "execute_result"
    }
   ],
   "source": [
    "accuracy"
   ]
  },
  {
   "cell_type": "code",
   "execution_count": 15,
   "id": "8cb24c63",
   "metadata": {
    "execution": {
     "iopub.execute_input": "2023-09-09T12:35:39.259073Z",
     "iopub.status.busy": "2023-09-09T12:35:39.258689Z",
     "iopub.status.idle": "2023-09-09T12:35:39.264674Z",
     "shell.execute_reply": "2023-09-09T12:35:39.263623Z"
    },
    "papermill": {
     "duration": 0.016388,
     "end_time": "2023-09-09T12:35:39.266826",
     "exception": false,
     "start_time": "2023-09-09T12:35:39.250438",
     "status": "completed"
    },
    "tags": []
   },
   "outputs": [
    {
     "data": {
      "text/plain": [
       "dict_keys(['3', '4', '5', '6', '7', '8', 'accuracy', 'macro avg', 'weighted avg'])"
      ]
     },
     "execution_count": 15,
     "metadata": {},
     "output_type": "execute_result"
    }
   ],
   "source": [
    "classification_rep.keys()"
   ]
  },
  {
   "cell_type": "code",
   "execution_count": 16,
   "id": "79145996",
   "metadata": {
    "execution": {
     "iopub.execute_input": "2023-09-09T12:35:39.283169Z",
     "iopub.status.busy": "2023-09-09T12:35:39.282865Z",
     "iopub.status.idle": "2023-09-09T12:35:39.287248Z",
     "shell.execute_reply": "2023-09-09T12:35:39.286664Z"
    },
    "papermill": {
     "duration": 0.014776,
     "end_time": "2023-09-09T12:35:39.289097",
     "exception": false,
     "start_time": "2023-09-09T12:35:39.274321",
     "status": "completed"
    },
    "tags": []
   },
   "outputs": [
    {
     "name": "stdout",
     "output_type": "stream",
     "text": [
      "{'3': {'f1-score': 1.0, 'precision': 1.0, 'recall': 1.0, 'support': 132},\n",
      " '4': {'f1-score': 0.9886792452830189,\n",
      "       'precision': 0.9776119402985075,\n",
      "       'recall': 1.0,\n",
      "       'support': 131},\n",
      " '5': {'f1-score': 0.7603833865814698,\n",
      "       'precision': 0.7300613496932515,\n",
      "       'recall': 0.7933333333333333,\n",
      "       'support': 150},\n",
      " '6': {'f1-score': 0.7017543859649122,\n",
      "       'precision': 0.7692307692307693,\n",
      "       'recall': 0.6451612903225806,\n",
      "       'support': 155},\n",
      " '7': {'f1-score': 0.9128630705394191,\n",
      "       'precision': 0.88,\n",
      "       'recall': 0.9482758620689655,\n",
      "       'support': 116},\n",
      " '8': {'f1-score': 1.0, 'precision': 1.0, 'recall': 1.0, 'support': 134},\n",
      " 'accuracy': 0.8875305623471883,\n",
      " 'macro avg': {'f1-score': 0.8939466813948034,\n",
      "               'precision': 0.8928173432037547,\n",
      "               'recall': 0.8977950809541465,\n",
      "               'support': 818},\n",
      " 'weighted avg': {'f1-score': 0.885377182306149,\n",
      "                  'precision': 0.8861700927431069,\n",
      "                  'recall': 0.8875305623471883,\n",
      "                  'support': 818}}\n"
     ]
    }
   ],
   "source": [
    " pprint.pprint(classification_rep)"
   ]
  },
  {
   "cell_type": "code",
   "execution_count": 17,
   "id": "ad0c1e1f",
   "metadata": {
    "execution": {
     "iopub.execute_input": "2023-09-09T12:35:39.304998Z",
     "iopub.status.busy": "2023-09-09T12:35:39.304670Z",
     "iopub.status.idle": "2023-09-09T12:35:39.310060Z",
     "shell.execute_reply": "2023-09-09T12:35:39.308812Z"
    },
    "papermill": {
     "duration": 0.015572,
     "end_time": "2023-09-09T12:35:39.311922",
     "exception": false,
     "start_time": "2023-09-09T12:35:39.296350",
     "status": "completed"
    },
    "tags": []
   },
   "outputs": [
    {
     "name": "stdout",
     "output_type": "stream",
     "text": [
      "{'f1-score': 0.8939466813948034,\n",
      " 'precision': 0.8928173432037547,\n",
      " 'recall': 0.8977950809541465,\n",
      " 'support': 818}\n"
     ]
    }
   ],
   "source": [
    "pprint.pprint(classification_rep['macro avg'])"
   ]
  },
  {
   "cell_type": "markdown",
   "id": "548261db",
   "metadata": {
    "papermill": {
     "duration": 0.007253,
     "end_time": "2023-09-09T12:35:39.326945",
     "exception": false,
     "start_time": "2023-09-09T12:35:39.319692",
     "status": "completed"
    },
    "tags": []
   },
   "source": [
    "Wine quality classification, the model demonstrates impressive performance. It excels in identifying extreme quality grades (3 and 8) and maintains good accuracy across the other grades (4, 5, 6, and 7). The overall model performance, as indicated by macro and weighted averages, suggests that it is well-suited for predicting wine quality within the given grade scale. However, further analysis and domain expertise may be needed to interpret the practical implications of these results in the context of wine production or evaluation."
   ]
  }
 ],
 "kernelspec": {
  "display_name": "Python 3",
  "language": "python",
  "name": "python3"
 },
 "language_info": {
  "codemirror_mode": {
   "name": "ipython",
   "version": 3
  },
  "file_extension": ".py",
  "mimetype": "text/x-python",
  "name": "python",
  "nbconvert_exporter": "python",
  "pygments_lexer": "ipython3",
  "version": "3.6.4"
 },
 "metadata": {
  "kernelspec": {
   "display_name": "Python 3",
   "language": "python",
   "name": "python3"
  },
  "language_info": {
   "codemirror_mode": {
    "name": "ipython",
    "version": 3
   },
   "file_extension": ".py",
   "mimetype": "text/x-python",
   "name": "python",
   "nbconvert_exporter": "python",
   "pygments_lexer": "ipython3",
   "version": "3.10.12"
  },
  "papermill": {
   "default_parameters": {},
   "duration": 7.78414,
   "end_time": "2023-09-09T12:35:39.954616",
   "environment_variables": {},
   "exception": null,
   "input_path": "__notebook__.ipynb",
   "output_path": "__notebook__.ipynb",
   "parameters": {},
   "start_time": "2023-09-09T12:35:32.170476",
   "version": "2.4.0"
  }
 },
 "nbformat": 4,
 "nbformat_minor": 5
}
